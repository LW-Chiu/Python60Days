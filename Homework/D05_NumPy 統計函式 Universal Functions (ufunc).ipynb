{
 "cells": [
  {
   "cell_type": "code",
   "execution_count": 1,
   "metadata": {},
   "outputs": [],
   "source": [
    "import numpy as np"
   ]
  },
  {
   "cell_type": "code",
   "execution_count": 2,
   "metadata": {},
   "outputs": [],
   "source": [
    "e = english_score = np.array([55, 89, 76, 65, 48, 70])"
   ]
  },
  {
   "cell_type": "code",
   "execution_count": 3,
   "metadata": {},
   "outputs": [],
   "source": [
    "m = math_score = np.array([60, 85, 60, 68, np.nan, 60])"
   ]
  },
  {
   "cell_type": "code",
   "execution_count": 4,
   "metadata": {},
   "outputs": [],
   "source": [
    "c = chinese_score = np.array([65, 90, 82, 72, 66, 77])"
   ]
  },
  {
   "cell_type": "code",
   "execution_count": 5,
   "metadata": {},
   "outputs": [],
   "source": [
    "# 1. 請計算各科成績平均、最大值、最小值、標準差，其中數學缺一筆資料可忽略？"
   ]
  },
  {
   "cell_type": "code",
   "execution_count": 6,
   "metadata": {},
   "outputs": [],
   "source": [
    "class Stat:\n",
    "    def smean(score):\n",
    "        if np.isnan(np.sum(score)):\n",
    "            return np.nanmean(score)\n",
    "        else:\n",
    "            return np.mean(score)\n",
    "    def smax(score):\n",
    "        if np.isnan(np.sum(score)):\n",
    "            return np.nanmax(score)\n",
    "        else:\n",
    "            return np.amax(score)\n",
    "    def smin(score):\n",
    "        if np.isnan(np.sum(score)):\n",
    "            return np.nanmin(score)\n",
    "        else:\n",
    "            return np.amin(score)\n",
    "    def sstd(score):\n",
    "        if np.isnan(np.sum(score)):\n",
    "            return np.nanstd(score)\n",
    "        else:\n",
    "            return np.std(score)\n",
    "    def scorr(score1, score2):\n",
    "        return np.corrcoef(score1, score2)"
   ]
  },
  {
   "cell_type": "code",
   "execution_count": 7,
   "metadata": {},
   "outputs": [],
   "source": [
    "E = np.arange(4, dtype = 'float64')"
   ]
  },
  {
   "cell_type": "code",
   "execution_count": 8,
   "metadata": {},
   "outputs": [],
   "source": [
    "E[0] = Stat.smean(e)"
   ]
  },
  {
   "cell_type": "code",
   "execution_count": 9,
   "metadata": {},
   "outputs": [],
   "source": [
    "E[1] = Stat.smax(e)"
   ]
  },
  {
   "cell_type": "code",
   "execution_count": 10,
   "metadata": {},
   "outputs": [],
   "source": [
    "E[2] = Stat.smin(e)"
   ]
  },
  {
   "cell_type": "code",
   "execution_count": 11,
   "metadata": {},
   "outputs": [],
   "source": [
    "E[3] = Stat.sstd(e)"
   ]
  },
  {
   "cell_type": "code",
   "execution_count": 13,
   "metadata": {},
   "outputs": [],
   "source": [
    "M = np.arange(4, dtype = 'float64')"
   ]
  },
  {
   "cell_type": "code",
   "execution_count": 14,
   "metadata": {},
   "outputs": [],
   "source": [
    "M[0] = Stat.smean(m)"
   ]
  },
  {
   "cell_type": "code",
   "execution_count": 15,
   "metadata": {},
   "outputs": [],
   "source": [
    "M[1] = Stat.smax(m)"
   ]
  },
  {
   "cell_type": "code",
   "execution_count": 16,
   "metadata": {},
   "outputs": [],
   "source": [
    "M[2] = Stat.smin(m)"
   ]
  },
  {
   "cell_type": "code",
   "execution_count": 17,
   "metadata": {},
   "outputs": [],
   "source": [
    "M[3] = Stat.sstd(m)"
   ]
  },
  {
   "cell_type": "code",
   "execution_count": 18,
   "metadata": {},
   "outputs": [],
   "source": [
    "C = np.arange(4, dtype = 'float64')"
   ]
  },
  {
   "cell_type": "code",
   "execution_count": 19,
   "metadata": {},
   "outputs": [],
   "source": [
    "C[0] = Stat.smean(c)"
   ]
  },
  {
   "cell_type": "code",
   "execution_count": 20,
   "metadata": {},
   "outputs": [],
   "source": [
    "C[1] = Stat.smax(c)"
   ]
  },
  {
   "cell_type": "code",
   "execution_count": 21,
   "metadata": {},
   "outputs": [],
   "source": [
    "C[2] = Stat.smin(c)"
   ]
  },
  {
   "cell_type": "code",
   "execution_count": 22,
   "metadata": {},
   "outputs": [],
   "source": [
    "C[3] = Stat.sstd(c)"
   ]
  },
  {
   "cell_type": "code",
   "execution_count": 23,
   "metadata": {},
   "outputs": [
    {
     "name": "stdout",
     "output_type": "stream",
     "text": [
      "英文： [67.16666667 89.         48.         13.43399502] (平均、最大值、最小值、標準差)\n"
     ]
    }
   ],
   "source": [
    "print(\"英文：\", E, \"(平均、最大值、最小值、標準差)\")"
   ]
  },
  {
   "cell_type": "code",
   "execution_count": 24,
   "metadata": {},
   "outputs": [
    {
     "name": "stdout",
     "output_type": "stream",
     "text": [
      "數學： [66.6        85.         60.          9.70772888] (平均、最大值、最小值、標準差)\n"
     ]
    }
   ],
   "source": [
    "print(\"數學：\", M, \"(平均、最大值、最小值、標準差)\")"
   ]
  },
  {
   "cell_type": "code",
   "execution_count": 25,
   "metadata": {},
   "outputs": [
    {
     "name": "stdout",
     "output_type": "stream",
     "text": [
      "國文： [75.33333333 90.         65.          8.8254682 ] (平均、最大值、最小值、標準差)\n"
     ]
    }
   ],
   "source": [
    "print(\"國文：\", C, \"(平均、最大值、最小值、標準差)\")"
   ]
  },
  {
   "cell_type": "code",
   "execution_count": 26,
   "metadata": {},
   "outputs": [],
   "source": [
    "# 2. 第五位同學補考數學後成績為 55，請計算補考後數學成績平均、最大值、最小值、標準差？"
   ]
  },
  {
   "cell_type": "code",
   "execution_count": 27,
   "metadata": {},
   "outputs": [],
   "source": [
    "m[4] = 55"
   ]
  },
  {
   "cell_type": "code",
   "execution_count": 28,
   "metadata": {},
   "outputs": [],
   "source": [
    "M_new = np.arange(4, dtype = 'float64')"
   ]
  },
  {
   "cell_type": "code",
   "execution_count": 29,
   "metadata": {},
   "outputs": [],
   "source": [
    "M_new[0] = Stat.smean(m)"
   ]
  },
  {
   "cell_type": "code",
   "execution_count": 30,
   "metadata": {},
   "outputs": [],
   "source": [
    "M_new[1] = Stat.smax(m)"
   ]
  },
  {
   "cell_type": "code",
   "execution_count": 31,
   "metadata": {},
   "outputs": [],
   "source": [
    "M_new[2] = Stat.smin(m)"
   ]
  },
  {
   "cell_type": "code",
   "execution_count": 32,
   "metadata": {},
   "outputs": [],
   "source": [
    "M_new[3] = Stat.sstd(m)"
   ]
  },
  {
   "cell_type": "code",
   "execution_count": 33,
   "metadata": {},
   "outputs": [
    {
     "name": "stdout",
     "output_type": "stream",
     "text": [
      "修正後的數學成績： [64.66666667 85.         55.          9.86013297] (平均、最大值、最小值、標準差)\n"
     ]
    }
   ],
   "source": [
    "print(\"修正後的數學成績：\", M_new, \"(平均、最大值、最小值、標準差)\")"
   ]
  },
  {
   "cell_type": "code",
   "execution_count": 34,
   "metadata": {},
   "outputs": [],
   "source": [
    "# 3. 用補考後資料找出與國文成績相關係數最高的學科？"
   ]
  },
  {
   "cell_type": "code",
   "execution_count": 35,
   "metadata": {},
   "outputs": [],
   "source": [
    "Corr_EC = Stat.scorr(e, c)"
   ]
  },
  {
   "cell_type": "code",
   "execution_count": 36,
   "metadata": {},
   "outputs": [],
   "source": [
    "Corr_MC = Stat.scorr(m, c)"
   ]
  },
  {
   "cell_type": "code",
   "execution_count": 38,
   "metadata": {},
   "outputs": [
    {
     "name": "stdout",
     "output_type": "stream",
     "text": [
      "英文與國文相關性較高\n"
     ]
    }
   ],
   "source": [
    "if np.any(np.greater(Corr_EC, Corr_MC)):\n",
    "    print(\"英文與國文相關性較高\")\n",
    "else:\n",
    "    print(\"數學與國文相關性較高\")"
   ]
  }
 ],
 "metadata": {
  "kernelspec": {
   "display_name": "Python 3",
   "language": "python",
   "name": "python3"
  },
  "language_info": {
   "codemirror_mode": {
    "name": "ipython",
    "version": 3
   },
   "file_extension": ".py",
   "mimetype": "text/x-python",
   "name": "python",
   "nbconvert_exporter": "python",
   "pygments_lexer": "ipython3",
   "version": "3.8.5"
  }
 },
 "nbformat": 4,
 "nbformat_minor": 4
}
